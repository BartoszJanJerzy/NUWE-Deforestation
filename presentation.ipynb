{
 "cells": [
  {
   "cell_type": "code",
   "execution_count": null,
   "metadata": {},
   "outputs": [],
   "source": [
    "import plotly.graph_objects as go\n",
    "import plotly.express as px\n",
    "import plotly.io as pio\n",
    "from IPython.display import display, HTML\n",
    "import pandas as pd\n",
    "import os\n",
    "\n",
    "from utils.visualisation import load_models_history_graph"
   ]
  },
  {
   "cell_type": "code",
   "execution_count": null,
   "metadata": {},
   "outputs": [],
   "source": [
    "pio.templates.default = \"plotly_dark\"\n",
    "display(HTML(\"<style>.container { width:100% !important; }</style>\"))"
   ]
  },
  {
   "cell_type": "code",
   "execution_count": null,
   "metadata": {},
   "outputs": [],
   "source": [
    "train_df = pd.read_feather(os.path.join(os.getcwd(), 'data', 'train.ftr'))\n",
    "\n",
    "purple = 'rgb(60, 22, 66)'\n",
    "sea = 'rgb(8, 99, 117)'\n",
    "light_green = 'rgb(178, 255, 158)'"
   ]
  },
  {
   "cell_type": "markdown",
   "metadata": {},
   "source": [
    "# Generally\n",
    "- I trained two models to different time ranges in data.   \n",
    "- They crossed 90% accuracy on validation datasets. Hope they work same on test data!\n",
    "\n",
    "## I've done twom main steps"
   ]
  },
  {
   "cell_type": "markdown",
   "metadata": {},
   "source": [
    "### 1 - Data recognition\n",
    "I saw that data can be splitted by 2012y.  \n",
    "Before, only two labels appear and after this year 3rd label is active.  \n",
    "**I've decided here to train two models for different time ranges.**"
   ]
  },
  {
   "cell_type": "code",
   "execution_count": null,
   "metadata": {},
   "outputs": [],
   "source": [
    "train_df['label_copy'] = train_df['label']\n",
    "df_graph = (\n",
    "    train_df\n",
    "    .groupby(['year', 'label'])\n",
    "    .agg({'label_copy': 'count'})\n",
    "    .reset_index()\n",
    ")\n",
    "df_graph['label'] = df_graph['label'].astype(str)\n",
    "colors_dict = {\n",
    "    '0': purple,\n",
    "    '1': light_green,\n",
    "    '2': sea\n",
    "}\n",
    "\n",
    "fig = px.bar(\n",
    "    df_graph,\n",
    "    x='year',\n",
    "    y='label_copy',\n",
    "    color='label',\n",
    "    color_discrete_map=colors_dict\n",
    ")\n",
    "fig.update_layout(\n",
    "    title='Labels distribution in time<br><b>Deforestation in type 1 appears only after 2012y</b><br>',\n",
    "    yaxis_title='count',\n",
    "    height=450,\n",
    "    width=1100\n",
    ")\n",
    "fig.show(renderer='notebook')"
   ]
  },
  {
   "cell_type": "markdown",
   "metadata": {},
   "source": [
    "### 2 - Image augmentation\n",
    "I've made synthetic data (~6k) using some augmentation technics (Rotatino, changing brightness, vertical shift).  \n",
    "It multiplied train dataset with new images, similar to real but giving new information to models.  \n",
    "**It improves models accuracy by ~25 %-points**"
   ]
  },
  {
   "cell_type": "code",
   "execution_count": null,
   "metadata": {},
   "outputs": [],
   "source": [
    "acc_list = [0.65, 0.93]\n",
    "acc_list_2 = [0.66, .92]\n",
    "labels = ['Standard images', 'Extra 6k augmented images']\n",
    "\n",
    "fig = load_models_history_graph(acc_list, labels, 'Before 2012y', sea, acc_list_2, 'After 2012y', light_green, height=350)\n",
    "fig.show(renderer='notebook')"
   ]
  },
  {
   "cell_type": "markdown",
   "metadata": {},
   "source": [
    "# To do in future\n",
    "\n",
    "Obviously, there is some neccessary steps to do, however, I can't code everething in one day :)  \n",
    "I see two main steps to do:\n",
    "- error analysis to show and fix weak points of these models\n",
    "- hyperparameter tuning \n"
   ]
  },
  {
   "cell_type": "markdown",
   "metadata": {},
   "source": [
    "# Main used staff\n",
    "![Python](https://www.4biosacademy.com.br/files/thumbs/block_1952-python-logo-3-350x350.png?v=1633611877)\n",
    "![Tensorflow](https://encrypted-tbn0.gstatic.com/images?q=tbn:ANd9GcQDjasst-lmQ2zB9sMNPQxQAXrvDmDHxxSNLw&usqp=CAU)\n",
    "![Pandas](https://i.ibb.co/k2pwyrV/Bez-tytu-u.png)\n",
    "![Plotly](https://upload.wikimedia.org/wikipedia/commons/thumb/8/8a/Plotly-logo.png/640px-Plotly-logo.png)\n",
    "![Numpy](https://encrypted-tbn0.gstatic.com/images?q=tbn:ANd9GcR_VfYfuw4JGQC0QLtbrhWyAQgW9qD9fXanG34lWGAyI1y34PxtAPagPNkCTAoX7_x7sFw&usqp=CAU)"
   ]
  }
 ],
 "metadata": {
  "kernelspec": {
   "display_name": "Python 3.9.4 ('.env': venv)",
   "language": "python",
   "name": "python3"
  },
  "language_info": {
   "codemirror_mode": {
    "name": "ipython",
    "version": 3
   },
   "file_extension": ".py",
   "mimetype": "text/x-python",
   "name": "python",
   "nbconvert_exporter": "python",
   "pygments_lexer": "ipython3",
   "version": "3.9.4"
  },
  "orig_nbformat": 4,
  "vscode": {
   "interpreter": {
    "hash": "df334b9baf988a808dd302c0f32b1b4e4d2454b9dbc8352ea80b8ff7878e3aeb"
   }
  }
 },
 "nbformat": 4,
 "nbformat_minor": 2
}
