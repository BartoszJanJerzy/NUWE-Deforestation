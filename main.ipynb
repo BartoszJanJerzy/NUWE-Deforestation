{
 "cells": [
  {
   "cell_type": "markdown",
   "metadata": {},
   "source": [
    "# Readme\n",
    "This is predictio notebook. See links to other code:\n",
    "1. Data exploration in [here](./00_recognize_data.ipynb)\n",
    "2. Image augmentation [notebook](./02_image_augmentation.ipynb), [class code](./utils/augmentation.py)\n",
    "3. Training model for time range before 2012y [here](./03_augmented_data_model_before_2012.ipynb)\n",
    "4. Training model for time range after 2012y [here](./05_augmented_data_model_after_2012.ipynb)"
   ]
  },
  {
   "cell_type": "code",
   "execution_count": 1,
   "metadata": {},
   "outputs": [],
   "source": [
    "import os\n",
    "import pandas as pd\n",
    "import numpy as np\n",
    "import warnings\n",
    "from tqdm import tqdm\n",
    "import cv2\n",
    "import json\n",
    "from typing import Callable\n",
    "from tensorflow.keras.models import load_model\n",
    "\n",
    "warnings.filterwarnings(\"ignore\")"
   ]
  },
  {
   "cell_type": "markdown",
   "metadata": {},
   "source": [
    "# Configuration"
   ]
  },
  {
   "cell_type": "code",
   "execution_count": 2,
   "metadata": {},
   "outputs": [],
   "source": [
    "PATHS = {\n",
    "    'data': os.path.join(os.getcwd(), 'data'),\n",
    "    'models': os.path.join(os.getcwd(), 'models'),\n",
    "    'train': os.path.join(os.getcwd(), 'data', 'train'),\n",
    "    'test': os.path.join(os.getcwd(), 'data', 'test')\n",
    "}\n",
    "\n",
    "def load_datafile_path(file: str) -> str: return os.path.join(PATHS['data'], file)\n",
    "def load_modelfile_path(file: str) -> str: return os.path.join(PATHS['models'], file)\n",
    "def load_train_image_path(file: str) -> str: return os.path.join(PATHS['train'], file)\n",
    "def load_test_image_path(file: str) -> str: return os.path.join(PATHS['test'], file)"
   ]
  },
  {
   "cell_type": "markdown",
   "metadata": {},
   "source": [
    "# Load data"
   ]
  },
  {
   "cell_type": "code",
   "execution_count": 3,
   "metadata": {},
   "outputs": [],
   "source": [
    "test_df = pd.read_feather(load_datafile_path('test.ftr'))\n",
    "test_df_before = test_df[test_df['year'] < 2012]\n",
    "test_df_after = test_df[test_df['year'] >= 2012]"
   ]
  },
  {
   "cell_type": "markdown",
   "metadata": {},
   "source": [
    "# Predictions"
   ]
  },
  {
   "cell_type": "markdown",
   "metadata": {},
   "source": [
    "## Before 2012y"
   ]
  },
  {
   "cell_type": "code",
   "execution_count": 4,
   "metadata": {},
   "outputs": [],
   "source": [
    "def load_images_names(df: pd.DataFrame) -> list:\n",
    "    images_paths = df['example_path']\n",
    "    return [p.split('/')[-1] for p in images_paths]\n",
    "\n",
    "\n",
    "def load_images(images_names: list, path_func: Callable) -> list:\n",
    "    images = []\n",
    "    for i in tqdm(range(len(images_names))):\n",
    "        images.append(cv2.imread(path_func(images_names[i])))\n",
    "    \n",
    "    return np.array(images)\n",
    "\n",
    "\n",
    "def calculate_predicted_labels(predictions: list) -> list:\n",
    "    predicted_labels = []\n",
    "\n",
    "    for i in range(len(predictions)):\n",
    "        y = np.argmax(predictions[i])\n",
    "        predicted_labels.append(2) if y else predicted_labels.append(y)\n",
    "    \n",
    "    return predicted_labels "
   ]
  },
  {
   "cell_type": "code",
   "execution_count": 5,
   "metadata": {},
   "outputs": [
    {
     "name": "stderr",
     "output_type": "stream",
     "text": [
      "100%|██████████| 377/377 [00:00<00:00, 466.88it/s]\n"
     ]
    }
   ],
   "source": [
    "names_before = load_images_names(test_df_before)\n",
    "images_before = load_images(names_before, load_test_image_path)"
   ]
  },
  {
   "cell_type": "code",
   "execution_count": 6,
   "metadata": {},
   "outputs": [
    {
     "name": "stdout",
     "output_type": "stream",
     "text": [
      "12/12 [==============================] - 1s 98ms/step\n"
     ]
    }
   ],
   "source": [
    "model = load_model(load_modelfile_path('augmented_6k_before_2012'))\n",
    "predictions_before = model.predict(images_before)\n",
    "predicted_labels = calculate_predicted_labels(predictions_before)\n",
    "test_df_before['pred'] = predicted_labels"
   ]
  },
  {
   "cell_type": "markdown",
   "metadata": {},
   "source": [
    "## After 2012y "
   ]
  },
  {
   "cell_type": "code",
   "execution_count": 7,
   "metadata": {},
   "outputs": [
    {
     "name": "stderr",
     "output_type": "stream",
     "text": [
      "100%|██████████| 258/258 [00:00<00:00, 467.81it/s]\n"
     ]
    }
   ],
   "source": [
    "names_after = load_images_names(test_df_after)\n",
    "images_after = load_images(names_after, load_test_image_path)"
   ]
  },
  {
   "cell_type": "code",
   "execution_count": 8,
   "metadata": {},
   "outputs": [
    {
     "name": "stdout",
     "output_type": "stream",
     "text": [
      "9/9 [==============================] - 1s 82ms/step\n"
     ]
    }
   ],
   "source": [
    "model = load_model(load_modelfile_path('augmented_6k_after_2012'))\n",
    "predictions_after = model.predict(images_after)\n",
    "predicted_labels = calculate_predicted_labels(predictions_after)\n",
    "test_df_after['pred'] = predicted_labels"
   ]
  },
  {
   "cell_type": "markdown",
   "metadata": {},
   "source": [
    "# Merge"
   ]
  },
  {
   "cell_type": "code",
   "execution_count": 9,
   "metadata": {},
   "outputs": [],
   "source": [
    "predictions = (\n",
    "    pd.concat([test_df_before, test_df_after])\n",
    "    .reset_index()\n",
    "    .sort_values('index')\n",
    "    [['index', 'pred']]\n",
    "    .set_index('index')\n",
    "    .to_dict()\n",
    ")"
   ]
  },
  {
   "cell_type": "code",
   "execution_count": 10,
   "metadata": {},
   "outputs": [],
   "source": [
    "with open('predictions.json', 'w') as file:\n",
    "    json.dump(predictions, file)"
   ]
  }
 ],
 "metadata": {
  "kernelspec": {
   "display_name": "Python 3.9.4 ('.env': venv)",
   "language": "python",
   "name": "python3"
  },
  "language_info": {
   "codemirror_mode": {
    "name": "ipython",
    "version": 3
   },
   "file_extension": ".py",
   "mimetype": "text/x-python",
   "name": "python",
   "nbconvert_exporter": "python",
   "pygments_lexer": "ipython3",
   "version": "3.9.4"
  },
  "orig_nbformat": 4,
  "vscode": {
   "interpreter": {
    "hash": "df334b9baf988a808dd302c0f32b1b4e4d2454b9dbc8352ea80b8ff7878e3aeb"
   }
  }
 },
 "nbformat": 4,
 "nbformat_minor": 2
}
