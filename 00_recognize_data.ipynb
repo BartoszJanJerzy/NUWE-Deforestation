{
 "cells": [
  {
   "cell_type": "markdown",
   "metadata": {},
   "source": [
    "# Imports"
   ]
  },
  {
   "cell_type": "code",
   "execution_count": null,
   "metadata": {},
   "outputs": [],
   "source": [
    "import os\n",
    "import numpy as np\n",
    "import pandas as pd\n",
    "import cv2\n",
    "import matplotlib.pylab as plt\n",
    "import plotly.graph_objects as go\n",
    "import plotly.express as px\n",
    "from sklearn.feature_selection import mutual_info_classif\n",
    "import warnings\n",
    "\n",
    "\n",
    "warnings.filterwarnings(\"ignore\")"
   ]
  },
  {
   "cell_type": "markdown",
   "metadata": {},
   "source": [
    "# Config, utils"
   ]
  },
  {
   "cell_type": "code",
   "execution_count": null,
   "metadata": {},
   "outputs": [],
   "source": [
    "PATHS = {\n",
    "    'data': os.path.join(os.getcwd(), 'data'),\n",
    "    'train': os.path.join(os.getcwd(), 'data', 'train'),\n",
    "    'test': os.path.join(os.getcwd(), 'data', 'test')\n",
    "}\n",
    "\n",
    "def load_datafile_path(file: str) -> str: return os.path.join(PATHS['data'], file)\n",
    "def load_train_image_path(file: str) -> str: return os.path.join(PATHS['train'], file)\n",
    "def load_test_image_path(file: str) -> str: return os.path.join(PATHS['test'], file)"
   ]
  },
  {
   "cell_type": "code",
   "execution_count": null,
   "metadata": {},
   "outputs": [],
   "source": [
    "os.listdir(PATHS['data'])"
   ]
  },
  {
   "cell_type": "markdown",
   "metadata": {},
   "source": [
    "# Recognize train data\n",
    "1. In whole data ther is a disproportion in labels. It looks like imbalance data.\n",
    "    - 0 label stands for 50 % of labels\n",
    "    - 2 stands for 38%\n",
    "    - 1 stands for 11%\n",
    "2. Label 1 appears only after 2012 year. Before, there are only 0 and 2. \n",
    "    - maybe two models are needed for differetn time range?\n",
    "3. Year, Latitude, Longitude are very weakly correlated with label."
   ]
  },
  {
   "cell_type": "code",
   "execution_count": null,
   "metadata": {},
   "outputs": [],
   "source": [
    "train_info = pd.read_feather(load_datafile_path('train.ftr'))\n",
    "train_info"
   ]
  },
  {
   "cell_type": "code",
   "execution_count": null,
   "metadata": {},
   "outputs": [],
   "source": [
    "(train_info['label'].value_counts() / len(train_info) * 100).round(2)"
   ]
  },
  {
   "cell_type": "code",
   "execution_count": null,
   "metadata": {},
   "outputs": [],
   "source": [
    "(train_info['year'].value_counts() / len(train_info) * 100).round(2)"
   ]
  },
  {
   "cell_type": "code",
   "execution_count": null,
   "metadata": {},
   "outputs": [],
   "source": [
    "train_info['label_copy'] = train_info['label']\n",
    "df_graph = (\n",
    "    train_info\n",
    "    .groupby(['year', 'label'])\n",
    "    .agg({'label_copy': 'count'})\n",
    "    .reset_index()\n",
    ")\n",
    "df_graph['label'] = df_graph['label'].astype(str)\n",
    "\n",
    "\n",
    "fig = px.bar(\n",
    "    df_graph,\n",
    "    x='year',\n",
    "    y='label_copy',\n",
    "    color='label'\n",
    ")\n",
    "fig.update_layout(\n",
    "    title='Labels distribution in time',\n",
    ")\n",
    "fig.show(renderer='notebook')"
   ]
  },
  {
   "cell_type": "code",
   "execution_count": null,
   "metadata": {},
   "outputs": [],
   "source": [
    "df_graph = train_info[['latitude', 'longitude', 'label']].copy()\n",
    "df_graph['label'] = df_graph['label'].astype(str)\n",
    "\n",
    "fig = px.scatter(\n",
    "    df_graph,\n",
    "    x='longitude',\n",
    "    y='latitude',\n",
    "    color='label'\n",
    ")\n",
    "fig.update_layout(\n",
    "    title='Labels distribution lat x long',\n",
    "    width=700,\n",
    "    height=600\n",
    ")\n",
    "fig.show(renderer='notebook')"
   ]
  },
  {
   "cell_type": "code",
   "execution_count": null,
   "metadata": {},
   "outputs": [],
   "source": [
    "df_graph = train_info[['latitude', 'longitude', 'year', 'label']].copy()\n",
    "df_graph['label'] = df_graph['label'].astype(str)\n",
    "df_graph.sort_values('year', inplace=True)\n",
    "\n",
    "fig = px.scatter(\n",
    "    df_graph,\n",
    "    x='latitude',\n",
    "    y='longitude',\n",
    "    color='label',\n",
    "    facet_col='year',\n",
    "    facet_col_wrap=4\n",
    ")\n",
    "\n",
    "fig.update_layout(\n",
    "    height=1000\n",
    ")\n",
    "fig.show()"
   ]
  },
  {
   "cell_type": "code",
   "execution_count": null,
   "metadata": {},
   "outputs": [],
   "source": [
    "cols = ['year', 'latitude', 'longitude']\n",
    "X = train_info[cols].to_numpy()\n",
    "y = train_info['label'].to_numpy()\n",
    "\n",
    "mi = mutual_info_classif(X, y)\n",
    "mutual_dict = {feature:round(m, 2) for feature, m in zip(cols, mi)}"
   ]
  },
  {
   "cell_type": "code",
   "execution_count": null,
   "metadata": {},
   "outputs": [],
   "source": [
    "mutual_dict"
   ]
  },
  {
   "cell_type": "code",
   "execution_count": null,
   "metadata": {},
   "outputs": [],
   "source": [
    "(\n",
    "    train_info[['label'] + cols]\n",
    "    .corr('spearman')\n",
    "    .round(2)\n",
    "    .applymap(lambda x: x if x != 1 else '-')\n",
    ")"
   ]
  },
  {
   "cell_type": "markdown",
   "metadata": {},
   "source": [
    "# Recognize test data\n",
    "1. Year distribution is similar to train data."
   ]
  },
  {
   "cell_type": "code",
   "execution_count": null,
   "metadata": {},
   "outputs": [],
   "source": [
    "test_info = pd.read_feather(load_datafile_path('test.ftr'))\n",
    "test_info"
   ]
  },
  {
   "cell_type": "code",
   "execution_count": null,
   "metadata": {},
   "outputs": [],
   "source": [
    "df_graph = (\n",
    "    test_info\n",
    "    .value_counts('year')\n",
    "    .reset_index()\n",
    "    .rename(columns={\n",
    "        0: 'count'\n",
    "    })\n",
    ")\n",
    "df_graph['before_2012'] = np.select(\n",
    "    condlist=[df_graph['year'] < 2012],\n",
    "    choicelist=[True],\n",
    "    default=False\n",
    ")\n",
    "\n",
    "\n",
    "fig = px.bar(\n",
    "    df_graph,\n",
    "    x='year',\n",
    "    y='count',\n",
    "    color='before_2012'\n",
    ")\n",
    "fig.show()"
   ]
  }
 ],
 "metadata": {
  "kernelspec": {
   "display_name": "Python 3.9.4 ('.env': venv)",
   "language": "python",
   "name": "python3"
  },
  "language_info": {
   "codemirror_mode": {
    "name": "ipython",
    "version": 3
   },
   "file_extension": ".py",
   "mimetype": "text/x-python",
   "name": "python",
   "nbconvert_exporter": "python",
   "pygments_lexer": "ipython3",
   "version": "3.9.4"
  },
  "orig_nbformat": 4,
  "vscode": {
   "interpreter": {
    "hash": "df334b9baf988a808dd302c0f32b1b4e4d2454b9dbc8352ea80b8ff7878e3aeb"
   }
  }
 },
 "nbformat": 4,
 "nbformat_minor": 2
}
